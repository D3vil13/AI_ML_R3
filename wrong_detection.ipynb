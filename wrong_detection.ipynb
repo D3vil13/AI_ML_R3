{
 "cells": [
  {
   "cell_type": "code",
   "execution_count": null,
   "metadata": {},
   "outputs": [],
   "source": [
    "import cv2\n",
    "import numpy as np\n",
    "import tensorflow as tf"
   ]
  },
  {
   "cell_type": "code",
   "execution_count": null,
   "metadata": {},
   "outputs": [],
   "source": [
    "model = tf.keras.models.load_model('C:\\\\Users\\\\d3vsh\\\\Downloads\\\\New folder\\\\rock_paper_scissors_mode2l.h5')"
   ]
  },
  {
   "cell_type": "code",
   "execution_count": null,
   "metadata": {},
   "outputs": [],
   "source": [
    "input_image_path = 'C:\\\\Users\\\\d3vsh\\\\Downloads\\\\New folder\\\\11.jpg'  \n",
    "input_image = cv2.imread(input_image_path)\n",
    "input_image = cv2.cvtColor(input_image, cv2.COLOR_BGR2RGB)\n",
    "input_image_resized = cv2.resize(input_image, (64, 64)) "
   ]
  },
  {
   "cell_type": "code",
   "execution_count": null,
   "metadata": {},
   "outputs": [],
   "source": [
    "input_tensor = tf.convert_to_tensor(input_image_resized)\n",
    "input_tensor = tf.expand_dims(input_tensor, axis=0)  "
   ]
  },
  {
   "cell_type": "code",
   "execution_count": null,
   "metadata": {},
   "outputs": [],
   "source": [
    "predictions = model.predict(input_tensor)\n",
    "\n",
    "\n",
    "class_labels = ['paper', 'rock', 'scissors']\n",
    "\n",
    "\n",
    "predicted_class_index = np.argmax(predictions)\n",
    "\n",
    "\n",
    "predicted_probability = predictions[0][predicted_class_index]"
   ]
  },
  {
   "cell_type": "code",
   "execution_count": null,
   "metadata": {},
   "outputs": [],
   "source": [
    "if predicted_probability > 0.8:  \n",
    "    label = class_labels[predicted_class_index]\n",
    "    color = (0, 255, 0)  \n",
    "\n",
    "    \n",
    "    height, width, _ = input_image.shape\n",
    "    x1, y1, x2, y2 = 50, 50, 150, 150 \n",
    "    cv2.rectangle(input_image, (x1, y1), (x2, y2), color, 2)\n",
    "    cv2.putText(input_image, label, (x1, y1 - 10), cv2.FONT_HERSHEY_SIMPLEX, 0.5, color, 2)"
   ]
  },
  {
   "cell_type": "code",
   "execution_count": null,
   "metadata": {},
   "outputs": [],
   "source": [
    "output_image_path = 'C:\\\\Users\\\\d3vsh\\\\Downloads\\\\New folder\\\\output_image111.jpg'  \n",
    "cv2.imwrite(output_image_path, cv2.cvtColor(input_image, cv2.COLOR_RGB2BGR))"
   ]
  }
 ],
 "metadata": {
  "kernelspec": {
   "display_name": "MLenv",
   "language": "python",
   "name": "python3"
  },
  "language_info": {
   "codemirror_mode": {
    "name": "ipython",
    "version": 3
   },
   "file_extension": ".py",
   "mimetype": "text/x-python",
   "name": "python",
   "nbconvert_exporter": "python",
   "pygments_lexer": "ipython3",
   "version": "3.9.18"
  },
  "orig_nbformat": 4
 },
 "nbformat": 4,
 "nbformat_minor": 2
}
