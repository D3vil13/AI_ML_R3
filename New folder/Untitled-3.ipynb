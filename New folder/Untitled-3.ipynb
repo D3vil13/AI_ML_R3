{
 "cells": [
  {
   "cell_type": "code",
   "execution_count": 4,
   "metadata": {},
   "outputs": [],
   "source": [
    "from keras.models import load_model\n",
    "import numpy as np\n",
    "from keras.preprocessing import image\n",
    "from PIL import Image\n",
    "from keras.applications.mobilenet_v2 import preprocess_input"
   ]
  },
  {
   "cell_type": "markdown",
   "metadata": {},
   "source": [
    "import the necessary libraries and modules. load_model is used to load a pre-trained Keras model, numpy is used for numerical operations, image is used for image preprocessing, PIL is used for handling images, and preprocess_input is a function to preprocess images specifically for MobileNetV2 (not used in the code, but imported)."
   ]
  },
  {
   "cell_type": "code",
   "execution_count": 5,
   "metadata": {},
   "outputs": [],
   "source": [
    "loaded_model = load_model(\"C:\\\\Users\\\\d3vsh\\\\Downloads\\\\New folder\\\\rock_paper_scissors_model.h5\")"
   ]
  },
  {
   "cell_type": "markdown",
   "metadata": {},
   "source": [
    " loads a pre-trained Keras model from the specified file path."
   ]
  },
  {
   "cell_type": "code",
   "execution_count": 6,
   "metadata": {},
   "outputs": [],
   "source": [
    "\n",
    "def preprocess_image(image_path):\n",
    "\n",
    "    img = Image.open(image_path)\n",
    "    img = img.resize((64, 64))  \n",
    "\n",
    "   \n",
    "    img = np.array(img)\n",
    "\n",
    "    \n",
    "    img = preprocess_input(img)\n",
    "\n",
    "    \n",
    "    img = np.expand_dims(img, axis=0)\n",
    "\n",
    "    return img"
   ]
  },
  {
   "cell_type": "markdown",
   "metadata": {},
   "source": [
    "This function preprocess_image takes an image file path as input, opens the image, resizes it to 64x64 pixels, converts it to a NumPy array, preprocesses it using MobileNetV2 preprocessing (scaling and normalization), and expands its dimensions to match the input shape expected by the model. Finally, it returns the preprocessed image as a NumPy array."
   ]
  },
  {
   "cell_type": "code",
   "execution_count": 7,
   "metadata": {},
   "outputs": [],
   "source": [
    "\n",
    "def predict_single_image(image_path, model):\n",
    "    img = preprocess_image(image_path)\n",
    "    predictions = model.predict(img)\n",
    "    \n",
    "    predicted_class = np.argmax(predictions)\n",
    "    return predicted_class"
   ]
  },
  {
   "cell_type": "markdown",
   "metadata": {},
   "source": [
    "This function predict_single_image takes an image file path and a pre-trained model as input. It uses the preprocess_image function to preprocess the image, makes predictions using the model, finds the class with the highest predicted probability (argmax), and returns the predicted class index."
   ]
  },
  {
   "cell_type": "code",
   "execution_count": 12,
   "metadata": {},
   "outputs": [
    {
     "name": "stdout",
     "output_type": "stream",
     "text": [
      "1/1 [==============================] - 0s 16ms/step\n",
      "The image is classified as: paper\n"
     ]
    }
   ],
   "source": [
    "image_path = \"C:\\\\Users\\\\d3vsh\\\\Downloads\\\\New folder\\\\kss.jpg\"\n",
    "predicted_class = predict_single_image(image_path, loaded_model)\n",
    "\n",
    "\n",
    "class_labels = ['paper', 'rock', 'scissors']\n",
    "predicted_label = class_labels[predicted_class]\n",
    "\n",
    "\n",
    "print(f'The image is classified as: {predicted_label}')"
   ]
  },
  {
   "cell_type": "markdown",
   "metadata": {},
   "source": [
    "defines a list of class labels that correspond to the categories the model can predict.\n",
    " loads a pre-trained image classification model, preprocesses an input image, predicts its class, and displays the predicted label. It can be used to classify an image into one of three categories: 'paper', 'rock', or 'scissors'."
   ]
  },
  {
   "cell_type": "code",
   "execution_count": null,
   "metadata": {},
   "outputs": [],
   "source": []
  }
 ],
 "metadata": {
  "kernelspec": {
   "display_name": "MLenv",
   "language": "python",
   "name": "python3"
  },
  "language_info": {
   "codemirror_mode": {
    "name": "ipython",
    "version": 3
   },
   "file_extension": ".py",
   "mimetype": "text/x-python",
   "name": "python",
   "nbconvert_exporter": "python",
   "pygments_lexer": "ipython3",
   "version": "3.10.13"
  },
  "orig_nbformat": 4
 },
 "nbformat": 4,
 "nbformat_minor": 2
}
